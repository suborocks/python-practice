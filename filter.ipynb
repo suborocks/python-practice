{
 "cells": [
  {
   "cell_type": "markdown",
   "metadata": {},
   "source": [
    "# filter"
   ]
  },
  {
   "cell_type": "markdown",
   "metadata": {},
   "source": [
    "## -filter function is used to select certain piece of data from a iterable(list, tuple, set) or other collection of data\n",
    "\n",
    "## -use to filter data we don not need\n",
    "## Syntax : filter(FUNCTION, ITERABLE)"
   ]
  },
  {
   "cell_type": "code",
   "execution_count": 8,
   "metadata": {},
   "outputs": [
    {
     "name": "stdout",
     "output_type": "stream",
     "text": [
      "[-10, -9, -8, -7, -6, -5, -4, -3, -2, -1, 0, 1, 2, 3, 4, 5, 6, 7, 8, 9]\n",
      "[0, 1, 2, 3, 4, 5, 6, 7, 8, 9]\n",
      "[-10, -9, -8, -7, -6, -5, -4, -3, -2, -1]\n"
     ]
    }
   ],
   "source": [
    "a = list(range(-10, 10))\n",
    "print(a)\n",
    "p = list(filter(lambda x: x>=0, a))\n",
    "q = list(filter(lambda x: x<0, a))\n",
    "print(p)\n",
    "print(q)\n",
    "#list(map(lambda x: x<0, a))\n",
    "#filter returns a object is the condition is true and map retruns a boolean value\n"
   ]
  },
  {
   "cell_type": "code",
   "execution_count": 21,
   "metadata": {},
   "outputs": [
    {
     "name": "stdout",
     "output_type": "stream",
     "text": [
      "['ktm', 'pokhara', 'biratnagar', 'janakpur']\n",
      "['ktm', 0, 'pokhara', 'biratnagar', 'janakpur']\n",
      "['ktm', 'pokhara', 'biratnagar', 'janakpur']\n"
     ]
    }
   ],
   "source": [
    "#filter missing data\n",
    "cities = ['ktm', None, \"\", 0, 'pokhara', False, [], {}, 'biratnagar', (), 'janakpur']\n",
    "n = list(filter(None, cities)) #filters the none data\n",
    "m = list(filter(lambda x: x or x is 0 or x is 0.0, cities)) #takes 0 as data\n",
    "o = list (filter(lambda x: x, cities))\n",
    "print(n)\n",
    "print(m)\n",
    "print(o)\n"
   ]
  },
  {
   "cell_type": "code",
   "execution_count": null,
   "metadata": {},
   "outputs": [],
   "source": []
  }
 ],
 "metadata": {
  "kernelspec": {
   "display_name": "Python 3",
   "language": "python",
   "name": "python3"
  },
  "language_info": {
   "codemirror_mode": {
    "name": "ipython",
    "version": 3
   },
   "file_extension": ".py",
   "mimetype": "text/x-python",
   "name": "python",
   "nbconvert_exporter": "python",
   "pygments_lexer": "ipython3",
   "version": "3.7.1"
  }
 },
 "nbformat": 4,
 "nbformat_minor": 2
}
