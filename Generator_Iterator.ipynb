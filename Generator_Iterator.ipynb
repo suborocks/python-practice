{
 "cells": [
  {
   "cell_type": "markdown",
   "metadata": {},
   "source": [
    "# Generators Expression"
   ]
  },
  {
   "cell_type": "code",
   "execution_count": 6,
   "metadata": {},
   "outputs": [
    {
     "name": "stdout",
     "output_type": "stream",
     "text": [
      "[0, 1, 2, 3, 4]\n",
      "<generator object <genexpr> at 0x7f3198758c78>\n",
      "0\n",
      "1\n",
      "(2, 3, 4)\n",
      "()\n",
      "()\n"
     ]
    }
   ],
   "source": [
    "#list comprehension\n",
    "a = [i for i in range(5)] # a is a container\n",
    "print(a)\n",
    "\n",
    "#generator expression\n",
    "g = (i for i in range(5))\n",
    "print(g) \n",
    "print(next(g))\n",
    "print(next(g))\n",
    "print(tuple(g))\n",
    "print(tuple(g))\n",
    "print(tuple(g))"
   ]
  },
  {
   "cell_type": "code",
   "execution_count": 8,
   "metadata": {},
   "outputs": [
    {
     "name": "stdout",
     "output_type": "stream",
     "text": [
      "0\n",
      "{1, 2, 3, 4}\n"
     ]
    },
    {
     "ename": "StopIteration",
     "evalue": "",
     "output_type": "error",
     "traceback": [
      "\u001b[0;31m---------------------------------------------------------------------------\u001b[0m",
      "\u001b[0;31mStopIteration\u001b[0m                             Traceback (most recent call last)",
      "\u001b[0;32m<ipython-input-8-0e29c47f92ab>\u001b[0m in \u001b[0;36m<module>\u001b[0;34m\u001b[0m\n\u001b[1;32m      2\u001b[0m \u001b[0mprint\u001b[0m\u001b[0;34m(\u001b[0m\u001b[0mnext\u001b[0m\u001b[0;34m(\u001b[0m\u001b[0mg\u001b[0m\u001b[0;34m)\u001b[0m\u001b[0;34m)\u001b[0m\u001b[0;34m\u001b[0m\u001b[0;34m\u001b[0m\u001b[0m\n\u001b[1;32m      3\u001b[0m \u001b[0mprint\u001b[0m\u001b[0;34m(\u001b[0m\u001b[0mset\u001b[0m\u001b[0;34m(\u001b[0m\u001b[0mg\u001b[0m\u001b[0;34m)\u001b[0m\u001b[0;34m)\u001b[0m\u001b[0;34m\u001b[0m\u001b[0;34m\u001b[0m\u001b[0m\n\u001b[0;32m----> 4\u001b[0;31m \u001b[0mprint\u001b[0m\u001b[0;34m(\u001b[0m\u001b[0mnext\u001b[0m\u001b[0;34m(\u001b[0m\u001b[0mg\u001b[0m\u001b[0;34m)\u001b[0m\u001b[0;34m)\u001b[0m\u001b[0;34m\u001b[0m\u001b[0;34m\u001b[0m\u001b[0m\n\u001b[0m",
      "\u001b[0;31mStopIteration\u001b[0m: "
     ]
    }
   ],
   "source": [
    "g = (i for i in range(5))\n",
    "print(next(g))\n",
    "print(set(g))\n",
    "print(next(g))"
   ]
  },
  {
   "cell_type": "code",
   "execution_count": 9,
   "metadata": {},
   "outputs": [
    {
     "name": "stdout",
     "output_type": "stream",
     "text": [
      "0\n",
      "1\n",
      "2\n",
      "3\n",
      "4\n"
     ]
    }
   ],
   "source": [
    "g = (i for i in range(5))\n",
    "for i in g:\n",
    "    print(i)\n",
    "    \n",
    "#StopIteration is handled by for loop"
   ]
  },
  {
   "cell_type": "code",
   "execution_count": 13,
   "metadata": {},
   "outputs": [
    {
     "name": "stdout",
     "output_type": "stream",
     "text": [
      "[0, 1, 2, 3, 4]\n",
      "<list_iterator object at 0x7f31986e69e8>\n",
      "0\n",
      "1\n",
      "{2, 3, 4}\n",
      "()\n"
     ]
    }
   ],
   "source": [
    "i = [i for i in range(5)]\n",
    "print(i)\n",
    "f = iter(i) #iterable can be used as iterator by iter() method\n",
    "print(f)\n",
    "print(next(f))\n",
    "print(next(f))\n",
    "print(set(f))\n",
    "print(tuple(f))"
   ]
  },
  {
   "cell_type": "code",
   "execution_count": 14,
   "metadata": {},
   "outputs": [
    {
     "data": {
      "text/plain": [
       "14"
      ]
     },
     "execution_count": 14,
     "metadata": {},
     "output_type": "execute_result"
    }
   ],
   "source": [
    "from itertools import count\n",
    "counter = count(start = 13)\n",
    "next(counter)\n",
    "next(counter)\n",
    "#some produce infinite sequences from finite sequences"
   ]
  },
  {
   "cell_type": "code",
   "execution_count": 15,
   "metadata": {},
   "outputs": [
    {
     "data": {
      "text/plain": [
       "'white'"
      ]
     },
     "execution_count": 15,
     "metadata": {},
     "output_type": "execute_result"
    }
   ],
   "source": [
    "from itertools import cycle\n",
    "colors = cycle(['red','white','blue']) #same as circular queue\n",
    "next(colors)\n",
    "next(colors)"
   ]
  },
  {
   "cell_type": "code",
   "execution_count": 16,
   "metadata": {},
   "outputs": [
    {
     "name": "stdout",
     "output_type": "stream",
     "text": [
      "red\n",
      "white\n",
      "blue\n",
      "red\n"
     ]
    }
   ],
   "source": [
    "from itertools import islice\n",
    "colors = cycle(['red', 'white', 'blue'])\n",
    "limited = islice(colors, 0, 4)\n",
    "for x in limited:\n",
    "    print(x)"
   ]
  },
  {
   "cell_type": "code",
   "execution_count": 19,
   "metadata": {},
   "outputs": [
    {
     "name": "stdout",
     "output_type": "stream",
     "text": [
      "Function return\n",
      "[0, 1, 2, 3, 4]\n",
      "generator function\n",
      "<generator object gen at 0x7f3198758c00>\n",
      "0\n",
      "1\n",
      "{2, 3, 4}\n"
     ]
    }
   ],
   "source": [
    "#return from a function\n",
    "def gen():\n",
    "    r = []\n",
    "    for i in range(5):\n",
    "        r.append(i)\n",
    "    return r\n",
    "\n",
    "print('Function return')\n",
    "a = gen()\n",
    "print(a)\n",
    "\n",
    "def gen():\n",
    "    for i in range(5):\n",
    "        yield i\n",
    "\n",
    "print('generator function')\n",
    "a = gen()\n",
    "print(a)\n",
    "print(next(a))\n",
    "print(next(a))\n",
    "print(set(a))"
   ]
  },
  {
   "cell_type": "code",
   "execution_count": 22,
   "metadata": {},
   "outputs": [
    {
     "name": "stdout",
     "output_type": "stream",
     "text": [
      "generator function\n",
      "<generator object gen at 0x7f3198758f48>\n",
      "first call\n",
      "0\n",
      "after\n",
      "1\n",
      "after\n",
      "after\n",
      "after\n",
      "after\n",
      "{2, 3, 4}\n"
     ]
    }
   ],
   "source": [
    "def gen():\n",
    "    print('first call')\n",
    "    for i in range(5):\n",
    "        yield i\n",
    "        print('after')\n",
    "\n",
    "print('generator function')\n",
    "a = gen()\n",
    "print(a)\n",
    "print(next(a))\n",
    "print(next(a))\n",
    "print(set(a))"
   ]
  },
  {
   "cell_type": "code",
   "execution_count": 24,
   "metadata": {},
   "outputs": [
    {
     "data": {
      "text/plain": [
       "[1, 1, 2, 3, 5, 8, 13, 21, 34, 55]"
      ]
     },
     "execution_count": 24,
     "metadata": {},
     "output_type": "execute_result"
    }
   ],
   "source": [
    "#fibonacci series in list\n",
    "# islice gives stop iteration\n",
    "#\n",
    "def fib():\n",
    "    prev, curr = 0, 1\n",
    "    while True:\n",
    "        yield curr\n",
    "        prev, curr = curr, prev + curr\n",
    "        \n",
    "f = fib()\n",
    "list(islice(f, 0, 10))"
   ]
  },
  {
   "cell_type": "code",
   "execution_count": null,
   "metadata": {},
   "outputs": [],
   "source": []
  }
 ],
 "metadata": {
  "kernelspec": {
   "display_name": "Python 3",
   "language": "python",
   "name": "python3"
  },
  "language_info": {
   "codemirror_mode": {
    "name": "ipython",
    "version": 3
   },
   "file_extension": ".py",
   "mimetype": "text/x-python",
   "name": "python",
   "nbconvert_exporter": "python",
   "pygments_lexer": "ipython3",
   "version": "3.7.1"
  }
 },
 "nbformat": 4,
 "nbformat_minor": 2
}
