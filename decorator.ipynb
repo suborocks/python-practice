{
 "cells": [
  {
   "cell_type": "code",
   "execution_count": 19,
   "metadata": {},
   "outputs": [
    {
     "name": "stdout",
     "output_type": "stream",
     "text": [
      "function <function add at 0x7f243c38be18>\n",
      "function <function mul at 0x7f243c38bb70>\n",
      "(5,) {'y': 6}\n",
      "0:00:00.000006\n",
      "11\n",
      "(5, 6) {}\n",
      "0:00:00.000003\n",
      "30\n"
     ]
    }
   ],
   "source": [
    "#decorator examples\n",
    "import datetime\n",
    "import time\n",
    "\n",
    "def timeit(func):\n",
    "    print('function',func)\n",
    "    def wrapper(*args, **kwargs):\n",
    "        print(args,kwargs)\n",
    "        start = datetime.datetime.now()\n",
    "        s = func(*args, **kwargs)\n",
    "        stop = datetime.datetime.now()\n",
    "        print(stop-start)\n",
    "        return s\n",
    "    return wrapper\n",
    "\n",
    "@timeit\n",
    "def add(x,y):\n",
    "   return x+y\n",
    "\n",
    "@timeit\n",
    "def mul(x,y):\n",
    "    return x*y\n",
    "\n",
    "\n",
    "a = add(5,y=6)\n",
    "print(a)\n",
    "\n",
    "m = mul(5,6)\n",
    "print(m)"
   ]
  },
  {
   "cell_type": "code",
   "execution_count": 18,
   "metadata": {},
   "outputs": [
    {
     "name": "stdout",
     "output_type": "stream",
     "text": [
      "<p>hellosubodh</p>\n"
     ]
    }
   ],
   "source": [
    "#using decorator print the data in the p tag\n",
    "def p(func):\n",
    "    def wrapper(*args, **kwargs):\n",
    "        s = func(*args, **kwargs)\n",
    "        return '<p>'+s+'</p>'\n",
    "    return wrapper\n",
    "\n",
    "@p\n",
    "def greet(name):\n",
    "    return 'hello{}'.format(name)\n",
    "\n",
    "print(greet('subodh'))\n"
   ]
  },
  {
   "cell_type": "code",
   "execution_count": null,
   "metadata": {},
   "outputs": [],
   "source": []
  },
  {
   "cell_type": "code",
   "execution_count": null,
   "metadata": {},
   "outputs": [],
   "source": []
  }
 ],
 "metadata": {
  "kernelspec": {
   "display_name": "Python 3",
   "language": "python",
   "name": "python3"
  },
  "language_info": {
   "codemirror_mode": {
    "name": "ipython",
    "version": 3
   },
   "file_extension": ".py",
   "mimetype": "text/x-python",
   "name": "python",
   "nbconvert_exporter": "python",
   "pygments_lexer": "ipython3",
   "version": "3.7.1"
  }
 },
 "nbformat": 4,
 "nbformat_minor": 2
}
